{
 "cells": [
  {
   "cell_type": "code",
   "execution_count": 17,
   "metadata": {},
   "outputs": [
    {
     "name": "stdout",
     "output_type": "stream",
     "text": [
      "[0.   0.   0.   0.   0.1  0.44 0.4  0.06 0.  ]\n"
     ]
    },
    {
     "data": {
      "image/png": "[encoded data removed]",
      "text/plain": [
       "<Figure size 432x288 with 1 Axes>"
      ]
     },
     "metadata": {
      "needs_background": "light"
     },
     "output_type": "display_data"
    },
    {
     "name": "stdout",
     "output_type": "stream",
     "text": [
      "1.0\n"
     ]
    }
   ],
   "source": [
    "import numpy as np\n",
    "import matplotlib.pyplot as plt\n",
    "import json, math\n",
    "from scipy.optimize import curve_fit\n",
    "from scipy.signal import savgol_filter\n",
    "\n",
    "def get_result(v, num_nodes, run, interval = 1000):\n",
    "    try:\n",
    "        with open(f'../res/v{v}_parsed/summary_collision_n{num_nodes}_i{interval}_r{run}.json') as f:\n",
    "            data = json.load(f)\n",
    "            return data\n",
    "    except:\n",
    "        return {\n",
    "            'collision_rate': -1\n",
    "        }\n",
    "\n",
    "def get_collision_rate_distribution(v, num_nodes, interval, num_runs):\n",
    "    collision_rate = []\n",
    "    for i in range(num_runs):\n",
    "        data = get_result(v, num_nodes, i, interval)\n",
    "        collision_rate.append(data['collision_rate'])\n",
    "    collsision_rates = np.array(collision_rate)\n",
    "    collsision_rates = collsision_rates[collsision_rates > -1]\n",
    "    return np.histogram(collsision_rates, np.arange(0,1.0, 0.1))\n",
    "\n",
    "max_tx = 3\n",
    "\n",
    "\n",
    "\n",
    "(p_collsision_rates, bins) = get_collision_rate_distribution(21, 600, 60, 400)\n",
    "\n",
    "p_collsision_rates = p_collsision_rates / np.sum(p_collsision_rates)\n",
    "\n",
    "print(p_collsision_rates)\n",
    "n = np.arange(1, 100)\n",
    "p_n_sum = np.zeros(len(n))\n",
    "i=0\n",
    "\n",
    "for p_c in np.arange(0.1, 1.0, 0.1):\n",
    "    p_n = np.power(p_c, n) * (1-p_c)\n",
    "    p_n_sum += p_n * p_collsision_rates[i]\n",
    "    i+=1\n",
    "\n",
    "e = np.sum(p_n_sum[n >= max_tx])\n",
    "plt.plot(n, p_n_sum, label=f'e={e:.2f}')\n",
    "plt.legend()\n",
    "plt.show()\n",
    "\n",
    "print(np.sum(p_collsision_rates))\n"
   ]
  },
  {
   "cell_type": "code",
   "execution_count": 20,
   "metadata": {},
   "outputs": [
    {
     "data": {
      "image/png": "[encoded data removed]",
      "text/plain": [
       "<Figure size 432x288 with 1 Axes>"
      ]
     },
     "metadata": {
      "needs_background": "light"
     },
     "output_type": "display_data"
    },
    {
     "name": "stdout",
     "output_type": "stream",
     "text": [
      "5.087043539279357\n"
     ]
    }
   ],
   "source": [
    "excess = []\n",
    "nn = np.arange(20, 1000, 5)\n",
    "t_max = 500\n",
    "for num_nodes in nn:\n",
    "\n",
    "    (p_collsision_rates, bins) = get_collision_rate_distribution(21, num_nodes, 60, 800)\n",
    "\n",
    "    p_collsision_rates = p_collsision_rates / np.sum(p_collsision_rates)\n",
    "    n = np.arange(1, 100)\n",
    "    p_n_sum = np.zeros(len(n))\n",
    "    i=0\n",
    "\n",
    "    for p_c in np.arange(0.1, 1.0, 0.1):\n",
    "        p_n = np.power(p_c, n-1) * (1-p_c)\n",
    "        p_n_sum += p_n * p_collsision_rates[i]\n",
    "        i+=1\n",
    "\n",
    "    excess_factor = [max(0, (1 - t_max / (ni * 60))) for ni in n]\n",
    "    \n",
    "    e = np.sum((p_n_sum * excess_factor))\n",
    "    excess.append(e)\n",
    "\n",
    "\n",
    "A = (0.509 * 2.5)**2 * math.pi\n",
    "factor = 1000 / (60 * A)\n",
    "positions = nn * factor\n",
    "plt.plot(positions, np.array(excess) * 100)\n",
    "\n",
    "yhat = savgol_filter(np.array(excess), 51, 3)\n",
    "plt.plot(positions, yhat * 100)\n",
    "\n",
    "\n",
    "#plt.plot(x_fitted, y_fitted * 100)\n",
    "plt.show()\n",
    "\n",
    "print(A)\n",
    "\n"
   ]
  },
  {
   "cell_type": "code",
   "execution_count": null,
   "metadata": {},
   "outputs": [],
   "source": []
  }
 ],
 "metadata": {
  "kernelspec": {
   "display_name": "Python 3.7.3 64-bit ('3.7.3')",
   "language": "python",
   "name": "python3"
  },
  "language_info": {
   "codemirror_mode": {
    "name": "ipython",
    "version": 3
   },
   "file_extension": ".py",
   "mimetype": "text/x-python",
   "name": "python",
   "nbconvert_exporter": "python",
   "pygments_lexer": "ipython3",
   "version": "3.7.3"
  },
  "orig_nbformat": 4,
  "vscode": {
   "interpreter": {
    "hash": "071847c1b2e2b092cbd74e36451b8a50b11002af833c321de3494e99802e393b"
   }
  }
 },
 "nbformat": 4,
 "nbformat_minor": 2
}
