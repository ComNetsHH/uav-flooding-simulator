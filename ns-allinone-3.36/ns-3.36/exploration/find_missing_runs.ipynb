{
 "cells": [
  {
   "cell_type": "code",
   "execution_count": 1,
   "metadata": {},
   "outputs": [],
   "source": [
    "import numpy as np\n",
    "import marshal, json\n",
    "\n",
    "v = 43\n",
    "\n",
    "def rdf_file_exists(n,i,q,r):\n",
    "    try:\n",
    "        with open(f'../res/v{v}_parsed/summary_kpi_rdf_n{n}_i{i}_q{q}_r{r}.json', 'r') as f:\n",
    "            data = json.load(f)\n",
    "            return True\n",
    "    except:\n",
    "        return False\n",
    "\n",
    "def sf_file_exists(n,i,p,r):\n",
    "    try:\n",
    "        with open(f'../res/v{v}_parsed/summary_kpi_sf_n{n}_i{i}_p{p}_r{r}.json', 'r') as f:\n",
    "            data = json.load(f)\n",
    "            return True\n",
    "    except:\n",
    "        return False"
   ]
  },
  {
   "cell_type": "code",
   "execution_count": 2,
   "metadata": {},
   "outputs": [
    {
     "name": "stdout",
     "output_type": "stream",
     "text": [
      "5\n",
      "['n100_i30_q130_r0', 'n100_i90_q0_r0', 'n125_i150_q0_r0', 'n150_i150_q0_r0', 'n575_i60_q130_r9']\n"
     ]
    }
   ],
   "source": [
    "missing_runs = []\n",
    "\n",
    "for run in range(0,10):\n",
    "    for send_interval in [0.03, 0.06, 0.09, 0.12, 0.15, 0.18]:\n",
    "        for q in [0.0, 1.0, 1.1, 1.2, 1.3, 1.4, 1.5, 1.6, 1.7, 1.8, 1.9, 2.0, 2.1, 2.2]:\n",
    "            for num_nodes in range(100, 625, 25):\n",
    "                if not rdf_file_exists(num_nodes, int(send_interval * 1000), int(q * 100), run):\n",
    "                    missing_runs.append(f'n{num_nodes}_i{int(send_interval * 1000)}_q{int(q * 100)}_r{run}')\n",
    "\n",
    "\n",
    "print(len(missing_runs))\n",
    "print(missing_runs)"
   ]
  },
  {
   "cell_type": "code",
   "execution_count": 5,
   "metadata": {},
   "outputs": [
    {
     "name": "stdout",
     "output_type": "stream",
     "text": [
      "0\n",
      "[]\n"
     ]
    }
   ],
   "source": [
    "missing_runs = []\n",
    "\n",
    "for run in range(0, 10):\n",
    "    for num_nodes in range(100, 625, 25):\n",
    "        for send_interval in [0.03, 0.06, 0.09, 0.12, 0.15, 0.18]:\n",
    "            for p in [1.0, 0.95, 0.9, 0.85, 0.8, 0.75, 0.7, 0.65, 0.6, 0.55, 0.5, 0.45, 0.4]:\n",
    "                if not sf_file_exists(num_nodes, int(send_interval * 1000), int(p * 100), run):\n",
    "                    missing_runs.append(f'n{num_nodes}_i{int(send_interval * 1000)}_p{int(p * 100)}_r{run}')\n",
    "\n",
    "\n",
    "print(len(missing_runs))\n",
    "print(missing_runs)"
   ]
  },
  {
   "cell_type": "code",
   "execution_count": null,
   "metadata": {},
   "outputs": [],
   "source": []
  }
 ],
 "metadata": {
  "kernelspec": {
   "display_name": "Python 3",
   "language": "python",
   "name": "python3"
  },
  "language_info": {
   "codemirror_mode": {
    "name": "ipython",
    "version": 3
   },
   "file_extension": ".py",
   "mimetype": "text/x-python",
   "name": "python",
   "nbconvert_exporter": "python",
   "pygments_lexer": "ipython3",
   "version": "3.9.14"
  },
  "orig_nbformat": 4,
  "vscode": {
   "interpreter": {
    "hash": "060863306db686882bc5e38f64a30492fd2b903e973dc099ca089ecbd1580ca6"
   }
  }
 },
 "nbformat": 4,
 "nbformat_minor": 2
}
