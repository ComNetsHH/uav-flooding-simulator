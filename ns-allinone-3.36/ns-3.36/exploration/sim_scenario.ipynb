{
 "cells": [
  {
   "cell_type": "code",
   "execution_count": 1,
   "metadata": {},
   "outputs": [],
   "source": [
    "import sys, os\n",
    "import json\n",
    "import pandas as pd\n",
    "import numpy as np\n",
    "import time, math\n",
    "import cv2\n",
    "from operator import sub\n",
    "import matplotlib\n",
    "import matplotlib.transforms as transforms\n",
    "import matplotlib.patches as patches\n",
    "import matplotlib.pyplot as plt\n",
    "import matplotlib.patches as patches\n",
    "import matplotlib_inline.backend_inline\n",
    "\n",
    "matplotlib_inline.backend_inline.set_matplotlib_formats('svg')\n",
    "plt.rcParams.update({\n",
    "    'font.family': 'serif',\n",
    "    \"font.serif\": 'Times',\n",
    "    'font.size': 12,\n",
    "    'text.usetex': True,\n",
    "    'pgf.rcfonts': False,\n",
    "    'figure.dpi': 300,\n",
    "    'savefig.dpi': 300,\n",
    "    'text.latex.preamble': [r'\\usepackage{amsmath}']\n",
    "})\n",
    "\n",
    "v = 27"
   ]
  },
  {
   "cell_type": "code",
   "execution_count": 95,
   "metadata": {},
   "outputs": [
    {
     "data": {
      "image/svg+xml": "<?xml version=\"1.0\" encoding=\"utf-8\" standalone=\"no\"?>\n<!DOCTYPE svg PUBLIC \"-//W3C//DTD SVG 1.1//EN\"\n  \"http://www.w3.org/Graphics/SVG/1.1/DTD/svg11.dtd\">\n<svg xmlns:xlink=\"http://www.w3.org/1999/xlink\" width=\"231.84pt\" height=\"231.84pt\" viewBox=\"0 0 231.84 231.84\" xmlns=\"http://www.w3.org/2000/svg\" version=\"1.1\">\n <metadata>\n  <rdf:RDF xmlns:dc=\"http://purl.org/dc/elements/1.1/\" xmlns:cc=\"http://creativecommons.org/ns#\" xmlns:rdf=\"http://www.w3.org/1999/02/22-rdf-syntax-ns#\">\n   <cc:Work>\n    <dc:type rdf:resource=\"http://purl.org/dc/dcmitype/StillImage\"/>\n    <dc:date>2022-07-22T14:20:27.421960</dc:date>\n    <dc:format>image/svg+xml</dc:format>\n    <dc:creator>\n     <cc:Agent>\n      <dc:title>Matplotlib v3.5.2, https://matplotlib.org/</dc:title>\n     </cc:Agent>\n    </dc:creator>\n   </cc:Work>\n  </rdf:RDF>\n </metadata>\n <defs>\n  <style type=\"text/css\">*{stroke-linejoin: round; stroke-linecap: butt}</style>\n </defs>\n <g id=\"figure_1\">\n  <g id=\"patch_1\">\n   <path d=\"M 0 231.84 \nL 231.84 231.84 \nL 231.84 0 \nL 0 0 \nL 0 231.84 \nz\n\" style=\"fill: none\"/>\n  </g>\n  <g id=\"axes_1\">\n   <g id=\"patch_2\">\n    <path d=\"M 7.2 224.64 \nL 224.64 224.64 \nL 224.64 7.2 \nL 7.2 7.2 \nz\n\" style=\"fill: #ffffff\"/>\n   </g>\n   <g id=\"patch_3\">\n    <path d=\"M 26.496623 205.343377 \nL 214.756364 205.343377 \nL 214.756364 17.083636 \nL 26.496623 17.083636 \nL 26.496623 205.343377 \nz\n\" clip-path=\"url(#pe651547eec)\" style=\"fill: none; stroke: #333333; stroke-linejoin: miter\"/>\n   </g>\n   <g id=\"patch_4\">\n    <path d=\"M 26.496623 205.343377 \nL 26.496623 17.083636 \nL 214.756364 17.083636 \nL 214.756364 205.343377 \nL 26.496623 205.343377 \nz\n\" clip-path=\"url(#pe651547eec)\" style=\"fill: none\"/>\n   </g>\n   <g id=\"patch_5\">\n    <path d=\"M 120.626494 113.566753 \nC 121.250582 113.566753 121.849193 113.3188 122.29049 112.877503 \nC 122.731787 112.436206 122.97974 111.837595 122.97974 111.213506 \nC 122.97974 110.589418 122.731787 109.990807 122.29049 109.54951 \nC 121.849193 109.108213 121.250582 108.86026 120.626494 108.86026 \nC 120.002405 108.86026 119.403794 109.108213 118.962497 109.54951 \nC 118.5212 109.990807 118.273247 110.589418 118.273247 111.213506 \nC 118.273247 111.837595 118.5212 112.436206 118.962497 112.877503 \nC 119.403794 113.3188 120.002405 113.566753 120.626494 113.566753 \nz\n\" clip-path=\"url(#pe651547eec)\" style=\"fill: #333333; stroke: #333333; stroke-linejoin: miter\"/>\n   </g>\n   <g id=\"patch_6\">\n    <path d=\"M 120.626494 126.901818 \nC 124.787082 126.901818 128.777824 125.248799 131.719805 122.306818 \nC 134.661786 119.364837 136.314805 115.374095 136.314805 111.213506 \nC 136.314805 107.052918 134.661786 103.062176 131.719805 100.120195 \nC 128.777824 97.178214 124.787082 95.525195 120.626494 95.525195 \nC 116.465905 95.525195 112.475163 97.178214 109.533182 100.120195 \nC 106.591201 103.062176 104.938182 107.052918 104.938182 111.213506 \nC 104.938182 115.374095 106.591201 119.364837 109.533182 122.306818 \nC 112.475163 125.248799 116.465905 126.901818 120.626494 126.901818 \nL 120.626494 126.901818 \nz\n\" clip-path=\"url(#pb71a55fece)\" style=\"fill: none; stroke: #333333; stroke-linejoin: miter\"/>\n   </g>\n   <g id=\"patch_7\">\n    <path d=\"M 35.90961 168.475844 \nC 36.533699 168.475844 37.13231 168.227891 37.573607 167.786594 \nC 38.014904 167.345297 38.262857 166.746686 38.262857 166.122597 \nC 38.262857 165.498509 38.014904 164.899898 37.573607 164.458601 \nC 37.13231 164.017304 36.533699 163.769351 35.90961 163.769351 \nC 35.285522 163.769351 34.686911 164.017304 34.245614 164.458601 \nC 33.804317 164.899898 33.556364 165.498509 33.556364 166.122597 \nC 33.556364 166.746686 33.804317 167.345297 34.245614 167.786594 \nC 34.686911 168.227891 35.285522 168.475844 35.90961 168.475844 \nz\n\" clip-path=\"url(#pe651547eec)\" style=\"fill: #333333; stroke: #333333; stroke-linejoin: miter\"/>\n   </g>\n   <g id=\"patch_8\">\n    <path d=\"M 35.90961 181.810909 \nC 40.070199 181.810909 44.060941 180.15789 47.002922 177.215909 \nC 49.944903 174.273928 51.597922 170.283186 51.597922 166.122597 \nC 51.597922 161.962009 49.944903 157.971266 47.002922 155.029286 \nC 44.060941 152.087305 40.070199 150.434286 35.90961 150.434286 \nC 31.749021 150.434286 27.758279 152.087305 24.816299 155.029286 \nC 21.874318 157.971266 20.221299 161.962009 20.221299 166.122597 \nC 20.221299 170.283186 21.874318 174.273928 24.816299 177.215909 \nC 27.758279 180.15789 31.749021 181.810909 35.90961 181.810909 \nL 35.90961 181.810909 \nz\n\" clip-path=\"url(#pb71a55fece)\" style=\"fill: none; stroke: #333333; stroke-linejoin: miter\"/>\n   </g>\n   <g id=\"patch_9\">\n    <path d=\"M 183.37974 50.813506 \nC 184.003829 50.813506 184.60244 50.565554 185.043737 50.124256 \nC 185.485034 49.682959 185.732987 49.084348 185.732987 48.46026 \nC 185.732987 47.836171 185.485034 47.23756 185.043737 46.796263 \nC 184.60244 46.354966 184.003829 46.107013 183.37974 46.107013 \nC 182.755652 46.107013 182.157041 46.354966 181.715744 46.796263 \nC 181.274446 47.23756 181.026494 47.836171 181.026494 48.46026 \nC 181.026494 49.084348 181.274446 49.682959 181.715744 50.124256 \nC 182.157041 50.565554 182.755652 50.813506 183.37974 50.813506 \nz\n\" clip-path=\"url(#pe651547eec)\" style=\"fill: #333333; stroke: #333333; stroke-linejoin: miter\"/>\n   </g>\n   <g id=\"patch_10\">\n    <path d=\"M 183.37974 64.148571 \nC 187.540329 64.148571 191.531071 62.495552 194.473052 59.553571 \nC 197.415032 56.611591 199.068052 52.620849 199.068052 48.46026 \nC 199.068052 44.299671 197.415032 40.308929 194.473052 37.366948 \nC 191.531071 34.424968 187.540329 32.771948 183.37974 32.771948 \nC 179.219151 32.771948 175.228409 34.424968 172.286429 37.366948 \nC 169.344448 40.308929 167.691429 44.299671 167.691429 48.46026 \nC 167.691429 52.620849 169.344448 56.611591 172.286429 59.553571 \nC 175.228409 62.495552 179.219151 64.148571 183.37974 64.148571 \nL 183.37974 64.148571 \nz\n\" clip-path=\"url(#pb71a55fece)\" style=\"fill: none; stroke: #333333; stroke-linejoin: miter\"/>\n   </g>\n   <g id=\"patch_11\">\n    <path d=\"M 152.003117 176.32 \nC 152.627205 176.32 153.225817 176.072047 153.667114 175.63075 \nC 154.108411 175.189453 154.356364 174.590842 154.356364 173.966753 \nC 154.356364 173.342665 154.108411 172.744054 153.667114 172.302757 \nC 153.225817 171.861459 152.627205 171.613506 152.003117 171.613506 \nC 151.379029 171.613506 150.780417 171.861459 150.33912 172.302757 \nC 149.897823 172.744054 149.64987 173.342665 149.64987 173.966753 \nC 149.64987 174.590842 149.897823 175.189453 150.33912 175.63075 \nC 150.780417 176.072047 151.379029 176.32 152.003117 176.32 \nz\n\" clip-path=\"url(#pe651547eec)\" style=\"fill: #333333; stroke: #333333; stroke-linejoin: miter\"/>\n   </g>\n   <g id=\"patch_12\">\n    <path d=\"M 152.003117 189.655065 \nC 156.163706 189.655065 160.154448 188.002045 163.096428 185.060065 \nC 166.038409 182.118084 167.691429 178.127342 167.691429 173.966753 \nC 167.691429 169.806164 166.038409 165.815422 163.096428 162.873442 \nC 160.154448 159.931461 156.163706 158.278442 152.003117 158.278442 \nC 147.842528 158.278442 143.851786 159.931461 140.909805 162.873442 \nC 137.967825 165.815422 136.314805 169.806164 136.314805 173.966753 \nC 136.314805 178.127342 137.967825 182.118084 140.909805 185.060065 \nC 143.851786 188.002045 147.842528 189.655065 152.003117 189.655065 \nL 152.003117 189.655065 \nz\n\" clip-path=\"url(#pb71a55fece)\" style=\"fill: none; stroke: #333333; stroke-linejoin: miter\"/>\n   </g>\n   <g id=\"matplotlib.axis_1\"/>\n   <g id=\"matplotlib.axis_2\"/>\n   <g id=\"line2d_1\">\n    <path d=\"M 26.496623 211.618701 \nL 214.756364 211.618701 \n\" clip-path=\"url(#pe651547eec)\" style=\"fill: none; stroke: #333333; stroke-linecap: square\"/>\n   </g>\n   <g id=\"line2d_2\">\n    <path d=\"M 26.496623 208.481039 \nL 26.496623 214.756364 \n\" clip-path=\"url(#pe651547eec)\" style=\"fill: none; stroke: #333333; stroke-linecap: square\"/>\n   </g>\n   <g id=\"line2d_3\">\n    <path d=\"M 214.756364 208.481039 \nL 214.756364 214.756364 \n\" clip-path=\"url(#pe651547eec)\" style=\"fill: none; stroke: #333333; stroke-linecap: square\"/>\n   </g>\n   <g id=\"line2d_4\">\n    <path d=\"M 20.221299 205.343377 \nL 20.221299 17.083636 \n\" clip-path=\"url(#pe651547eec)\" style=\"fill: none; stroke: #333333; stroke-linecap: square\"/>\n   </g>\n   <g id=\"line2d_5\">\n    <path d=\"M 23.358961 205.343377 \nL 17.083636 205.343377 \n\" clip-path=\"url(#pe651547eec)\" style=\"fill: none; stroke: #333333; stroke-linecap: square\"/>\n   </g>\n   <g id=\"line2d_6\">\n    <path d=\"M 23.358961 17.083636 \nL 17.083636 17.083636 \n\" clip-path=\"url(#pe651547eec)\" style=\"fill: none; stroke: #333333; stroke-linecap: square\"/>\n   </g>\n   <g id=\"patch_13\">\n    <path d=\"M 138.317122 104.774644 \nL 134.028879 107.671049 \nL 133.599627 106.491689 \nL 120.626499 111.213521 \nL 120.626488 111.213492 \nL 133.599616 106.491659 \nL 133.170364 105.312299 \nz\n\" clip-path=\"url(#pe651547eec)\" style=\"fill: #333333; stroke: #333333; stroke-linejoin: miter\"/>\n   </g>\n   <g id=\"patch_14\">\n    <path d=\"M 52.213382 175.535584 \nL 47.238177 174.112373 \nL 47.865702 173.025468 \nL 35.909603 166.122611 \nL 35.909618 166.122584 \nL 47.865718 173.025441 \nL 48.493242 171.938536 \nz\n\" clip-path=\"url(#pe651547eec)\" style=\"fill: #333333; stroke: #333333; stroke-linejoin: miter\"/>\n   </g>\n   <g id=\"patch_15\">\n    <path d=\"M 181.738949 29.705924 \nL 183.426782 34.597694 \nL 182.176509 34.707079 \nL 183.379756 48.460258 \nL 183.379725 48.460261 \nL 182.176477 34.707082 \nL 180.926204 34.816466 \nz\n\" clip-path=\"url(#pe651547eec)\" style=\"fill: #333333; stroke: #333333; stroke-linejoin: miter\"/>\n   </g>\n   <g id=\"patch_16\">\n    <path d=\"M 156.875638 192.151248 \nL 154.363999 187.626884 \nL 155.576284 187.302053 \nL 152.003102 173.966757 \nL 152.003132 173.966749 \nL 155.576314 187.302045 \nL 156.788598 186.977215 \nz\n\" clip-path=\"url(#pe651547eec)\" style=\"fill: #333333; stroke: #333333; stroke-linejoin: miter\"/>\n   </g>\n   <g id=\"patch_17\">\n    <path d=\"M 165.734545 127.304923 \nQ 143.842369 131.455098 127.741243 118.232119 \nL 126.471933 119.77771 \nQ 124.001651 116.447913 121.953255 112.713535 \nQ 125.492591 115.098506 129.010553 116.686528 \nL 127.741243 118.232119 \nQ 143.842369 131.455098 165.734545 127.304923 \nL 165.734545 127.304923 \nz\n\" clip-path=\"url(#pe651547eec)\" style=\"fill: #808080; stroke: #808080; stroke-linecap: round\"/>\n   </g>\n   <g id=\"patch_18\">\n    <path d=\"M 167.036359 125.010657 \nQ 154.298064 87.051311 177.03225 56.186462 \nL 175.421931 55.000346 \nQ 178.601546 52.372831 182.046948 49.954846 \nQ 180.107516 53.69445 178.64257 57.372579 \nL 177.03225 56.186462 \nQ 154.298064 87.051311 167.036359 125.010657 \nL 167.036359 125.010657 \nz\n\" clip-path=\"url(#pe651547eec)\" style=\"fill: #808080; stroke: #808080; stroke-linecap: round\"/>\n   </g>\n   <g id=\"patch_19\">\n    <path d=\"M 166.194815 128.225462 \nQ 149.739369 143.249098 150.657077 164.063786 \nL 152.655136 163.975693 \nQ 151.814776 167.742875 151.599151 172.005327 \nQ 149.840686 168.125983 148.659018 164.151879 \nL 150.657077 164.063786 \nQ 149.739369 143.249098 166.194815 128.225462 \nL 166.194815 128.225462 \nz\n\" clip-path=\"url(#pe651547eec)\" style=\"fill: #808080; stroke: #808080; stroke-linecap: round\"/>\n   </g>\n   <g id=\"line2d_7\">\n    <path d=\"M 26.496623 76.699221 \nL 214.756364 76.699221 \n\" clip-path=\"url(#pe651547eec)\" style=\"fill: none; stroke: #333333; stroke-linecap: square\"/>\n   </g>\n   <g id=\"line2d_8\">\n    <path d=\"M 35.90961 150.434286 \nL 64.148571 150.434286 \n\" clip-path=\"url(#pe651547eec)\" style=\"fill: none; stroke: #333333; stroke-linecap: square\"/>\n   </g>\n   <g id=\"line2d_9\">\n    <path d=\"M 35.90961 181.810909 \nL 64.148571 181.810909 \n\" clip-path=\"url(#pe651547eec)\" style=\"fill: none; stroke: #333333; stroke-linecap: square\"/>\n   </g>\n   <g id=\"line2d_10\">\n    <path d=\"M 57.873247 181.810909 \nL 57.873247 150.434286 \n\" clip-path=\"url(#pe651547eec)\" style=\"fill: none; stroke: #333333; stroke-linecap: square\"/>\n   </g>\n   <g id=\"text_1\">\n    <!-- 6 km -->\n    <g transform=\"translate(108.504015 221.907736)scale(0.12 -0.12)\">\n     <defs>\n      <path id=\"NimbusRomNo9L-Regu-36\" d=\"M 2854 4391 \nC 2125 4327 1754 4205 1286 3879 \nC 595 3386 218 2656 218 1802 \nC 218 1248 390 688 666 370 \nC 909 89 1254 -64 1651 -64 \nC 2445 -64 2995 541 2995 1421 \nC 2995 2236 2528 2752 1792 2752 \nC 1510 2752 1376 2707 973 2464 \nC 1146 3431 1862 4122 2867 4288 \nL 2854 4391 \nz\nM 1549 2458 \nC 2099 2458 2419 2000 2419 1204 \nC 2419 504 2170 116 1722 116 \nC 1158 116 813 714 813 1700 \nC 813 2025 864 2203 992 2299 \nC 1126 2400 1325 2458 1549 2458 \nz\n\" transform=\"scale(0.015625)\"/>\n      <path id=\"NimbusRomNo9L-Regu-6b\" d=\"M 45 3987 \nC 128 3994 186 4000 250 4000 \nC 461 4000 525 3917 525 3610 \nL 525 525 \nC 525 192 506 173 45 96 \nL 45 0 \nL 1542 0 \nL 1542 102 \nL 1414 102 \nC 1158 102 1062 193 1062 419 \nL 1062 1606 \nL 1958 415 \nL 1978 389 \nC 1990 370 2003 351 2022 331 \nC 2074 267 2093 229 2093 198 \nC 2093 140 2035 102 1958 102 \nL 1837 102 \nL 1837 0 \nL 3232 0 \nL 3232 102 \nC 2950 102 2752 225 2483 553 \nL 1504 1805 \nL 1690 1978 \nC 2144 2400 2541 2694 2726 2746 \nC 2822 2771 2912 2784 3021 2784 \nL 3072 2784 \nL 3072 2880 \nL 1766 2880 \nL 1766 2784 \nC 2016 2784 2086 2758 2086 2669 \nC 2086 2618 2029 2528 1939 2451 \nL 1062 1670 \nL 1062 4358 \nL 1037 4371 \nC 794 4294 608 4243 237 4141 \nL 45 4090 \nL 45 3987 \nz\n\" transform=\"scale(0.015625)\"/>\n      <path id=\"NimbusRomNo9L-Regu-6d\" d=\"M 122 2547 \nC 205 2566 256 2573 326 2573 \nC 493 2573 550 2470 550 2162 \nL 550 539 \nC 550 192 461 96 102 96 \nL 102 0 \nL 1523 0 \nL 1523 96 \nC 1184 96 1088 166 1088 418 \nL 1088 2234 \nC 1088 2246 1139 2310 1184 2355 \nC 1344 2502 1619 2611 1843 2611 \nC 2125 2611 2266 2385 2266 1932 \nL 2266 528 \nC 2266 167 2195 96 1830 96 \nL 1830 0 \nL 3264 0 \nL 3264 96 \nC 2899 96 2803 205 2803 603 \nL 2803 2221 \nC 2995 2496 3206 2611 3501 2611 \nC 3866 2611 3981 2438 3981 1907 \nL 3981 557 \nC 3981 192 3930 141 3558 96 \nL 3558 0 \nL 4960 0 \nL 4960 96 \nL 4794 115 \nC 4602 115 4518 230 4518 480 \nL 4518 1802 \nC 4518 2559 4269 2944 3776 2944 \nC 3405 2944 3078 2778 2733 2407 \nC 2618 2771 2400 2944 2054 2944 \nC 1773 2944 1594 2854 1062 2451 \nL 1062 2931 \nL 1018 2944 \nC 691 2822 474 2752 122 2656 \nL 122 2547 \nz\n\" transform=\"scale(0.015625)\"/>\n     </defs>\n     <use xlink:href=\"#NimbusRomNo9L-Regu-36\" transform=\"scale(0.996264)\"/>\n     <use xlink:href=\"#NimbusRomNo9L-Regu-6b\" transform=\"translate(74.719801 0)scale(0.996264)\"/>\n     <use xlink:href=\"#NimbusRomNo9L-Regu-6d\" transform=\"translate(124.533001 0)scale(0.996264)\"/>\n    </g>\n   </g>\n   <g id=\"text_2\">\n    <!-- 6 km -->\n    <g transform=\"translate(17.959684 123.335985)rotate(-90)scale(0.12 -0.12)\">\n     <use xlink:href=\"#NimbusRomNo9L-Regu-36\" transform=\"scale(0.996264)\"/>\n     <use xlink:href=\"#NimbusRomNo9L-Regu-6b\" transform=\"translate(74.719801 0)scale(0.996264)\"/>\n     <use xlink:href=\"#NimbusRomNo9L-Regu-6d\" transform=\"translate(124.533001 0)scale(0.996264)\"/>\n    </g>\n   </g>\n   <g id=\"text_3\">\n    <!-- UAVs -->\n    <g transform=\"translate(169.574026 129.660463)scale(0.12 -0.12)\">\n     <defs>\n      <path id=\"NimbusRomNo9L-Regu-55\" d=\"M 3910 3317 \nC 3910 3969 3987 4071 4512 4135 \nL 4512 4256 \nL 3027 4256 \nL 3027 4135 \nC 3526 4097 3629 3956 3629 3317 \nL 3629 1592 \nC 3629 1158 3584 915 3482 723 \nC 3309 416 2899 218 2419 218 \nC 1965 218 1651 372 1478 671 \nC 1363 876 1318 1113 1318 1515 \nL 1318 3560 \nC 1318 4020 1389 4090 1901 4135 \nL 1901 4256 \nL 90 4256 \nL 90 4135 \nC 595 4097 666 4026 666 3560 \nL 666 1566 \nC 666 460 1184 -64 2272 -64 \nC 2970 -64 3450 160 3699 595 \nC 3853 863 3910 1157 3910 1650 \nL 3910 3317 \nz\n\" transform=\"scale(0.015625)\"/>\n      <path id=\"NimbusRomNo9L-Regu-41\" d=\"M 4518 128 \nC 4230 128 4166 192 3942 667 \nL 2349 4320 \nL 2221 4320 \nL 890 1168 \nC 480 231 403 128 96 128 \nL 96 0 \nL 1363 0 \nL 1363 128 \nC 1056 128 928 212 928 393 \nC 928 470 947 560 979 645 \nL 1274 1401 \nL 2950 1401 \nL 3213 778 \nC 3290 602 3334 434 3334 342 \nC 3334 180 3226 128 2886 128 \nL 2886 0 \nL 4518 0 \nL 4518 128 \nz\nM 1382 1664 \nL 2118 3416 \nL 2861 1664 \nL 1382 1664 \nz\n\" transform=\"scale(0.015625)\"/>\n      <path id=\"NimbusRomNo9L-Regu-56\" d=\"M 4461 4231 \nL 3149 4231 \nL 3149 4096 \nC 3501 4096 3616 4026 3616 3846 \nC 3616 3744 3571 3572 3494 3380 \nL 2554 1033 \nL 1587 3199 \nC 1376 3667 1325 3814 1325 3910 \nC 1325 4032 1414 4096 1619 4096 \nC 1645 4096 1715 4096 1805 4109 \nL 1805 4231 \nL 102 4231 \nL 102 4096 \nC 416 4096 506 4007 781 3439 \nL 2355 -64 \nL 2451 -64 \nL 3872 3521 \nC 4083 4026 4154 4096 4461 4096 \nL 4461 4231 \nz\n\" transform=\"scale(0.015625)\"/>\n      <path id=\"NimbusRomNo9L-Regu-73\" d=\"M 2016 2010 \nL 1990 2880 \nL 1920 2880 \nL 1907 2867 \nC 1850 2822 1843 2816 1818 2816 \nC 1779 2816 1715 2829 1645 2861 \nC 1504 2915 1363 2944 1197 2944 \nC 691 2944 326 2616 326 2154 \nC 326 1796 531 1539 1075 1231 \nL 1446 1020 \nC 1670 892 1779 737 1779 539 \nC 1779 256 1574 77 1248 77 \nC 1030 77 832 159 710 298 \nC 576 455 518 600 435 960 \nL 333 960 \nL 333 -39 \nL 416 -39 \nC 461 33 486 48 563 48 \nC 621 48 710 35 858 -2 \nC 1037 -39 1210 -64 1325 -64 \nC 1818 -64 2227 308 2227 757 \nC 2227 1077 2074 1289 1690 1520 \nL 998 1930 \nC 819 2033 723 2194 723 2367 \nC 723 2624 922 2803 1216 2803 \nC 1581 2803 1773 2583 1920 2010 \nL 2016 2010 \nz\n\" transform=\"scale(0.015625)\"/>\n     </defs>\n     <use xlink:href=\"#NimbusRomNo9L-Regu-55\" transform=\"scale(0.996264)\"/>\n     <use xlink:href=\"#NimbusRomNo9L-Regu-41\" transform=\"translate(67.945871 0)scale(0.996264)\"/>\n     <use xlink:href=\"#NimbusRomNo9L-Regu-56\" transform=\"translate(126.426459 0)scale(0.996264)\"/>\n     <use xlink:href=\"#NimbusRomNo9L-Regu-73\" transform=\"translate(198.356444 0)scale(0.996264)\"/>\n    </g>\n   </g>\n   <g id=\"text_4\">\n    <!-- $T \\cdot v_\\mathrm{{max}}$ -->\n    <g transform=\"translate(71.477155 73.182541)scale(0.12 -0.12)\">\n     <defs>\n      <path id=\"NimbusRomNo9L-ReguItal-54\" d=\"M 4051 4160 \nL 646 4160 \nL 378 3179 \nL 493 3153 \nC 832 3835 1037 3943 2016 3943 \nL 1094 575 \nC 992 236 838 134 416 102 \nL 416 0 \nL 2272 0 \nL 2272 102 \nC 2163 102 2067 128 2029 128 \nC 1773 128 1696 185 1696 378 \nC 1696 461 1715 537 1773 754 \nL 2662 3943 \nL 3014 3943 \nC 3475 3943 3680 3782 3680 3422 \nC 3680 3339 3674 3244 3661 3134 \nL 3770 3121 \nL 4051 4160 \nz\n\" transform=\"scale(0.015625)\"/>\n      <path id=\"CMSY10-1\" d=\"M 1229 1619 \nC 1229 1805 1075 1958 890 1958 \nC 704 1958 550 1805 550 1619 \nC 550 1433 704 1280 890 1280 \nC 1075 1280 1229 1433 1229 1619 \nz\n\" transform=\"scale(0.015625)\"/>\n      <path id=\"NimbusRomNo9L-ReguItal-76\" d=\"M 134 2573 \nC 205 2579 256 2579 326 2579 \nC 576 2579 640 2471 730 1880 \nC 794 1437 870 469 870 97 \nC 870 -83 883 -128 928 -128 \nC 1088 -128 1683 552 2336 1463 \nC 2560 1783 2726 2200 2726 2438 \nC 2726 2643 2560 2816 2368 2816 \nC 2227 2816 2131 2733 2131 2598 \nC 2131 2496 2170 2418 2285 2316 \nC 2368 2239 2400 2188 2400 2124 \nC 2400 1828 1978 1116 1523 641 \nL 1325 436 \nC 1280 1341 1242 1675 1158 2149 \nC 1030 2804 1030 2816 973 2816 \nC 941 2816 896 2810 845 2791 \nC 730 2759 378 2694 134 2656 \nL 134 2573 \nz\n\" transform=\"scale(0.015625)\"/>\n      <path id=\"NimbusRomNo9L-Regu-61\" d=\"M 2829 423 \nC 2720 333 2643 301 2547 301 \nC 2400 301 2355 390 2355 672 \nL 2355 1920 \nC 2355 2253 2323 2438 2227 2592 \nC 2086 2822 1811 2944 1434 2944 \nC 832 2944 358 2630 358 2227 \nC 358 2080 486 1952 634 1952 \nC 787 1952 922 2080 922 2221 \nC 922 2246 915 2278 909 2323 \nC 896 2381 890 2432 890 2477 \nC 890 2650 1094 2790 1350 2790 \nC 1664 2790 1837 2605 1837 2259 \nL 1837 1869 \nC 851 1472 742 1421 467 1178 \nC 326 1050 237 832 237 621 \nC 237 218 518 -64 909 -64 \nC 1190 -64 1453 70 1843 403 \nC 1875 70 1990 -64 2253 -64 \nC 2470 -64 2605 13 2829 256 \nL 2829 423 \nz\nM 1837 783 \nC 1837 584 1805 526 1670 449 \nC 1517 359 1338 301 1203 301 \nC 979 301 800 520 800 796 \nL 800 822 \nC 800 1201 1062 1433 1837 1715 \nL 1837 783 \nz\n\" transform=\"scale(0.015625)\"/>\n      <path id=\"NimbusRomNo9L-Regu-78\" d=\"M 1779 0 \nL 3066 0 \nL 3066 96 \nC 2867 96 2739 198 2541 480 \nL 1722 1735 \nL 2253 2502 \nC 2374 2675 2566 2778 2771 2778 \nL 2771 2880 \nL 1760 2880 \nL 1760 2778 \nC 1952 2778 2016 2740 2016 2649 \nC 2016 2571 1939 2430 1779 2229 \nC 1747 2191 1670 2075 1587 1946 \nL 1498 2074 \nC 1318 2342 1203 2560 1203 2643 \nC 1203 2733 1286 2778 1478 2778 \nL 1478 2880 \nL 154 2880 \nL 154 2778 \nL 211 2778 \nC 403 2778 506 2695 704 2396 \nL 1306 1479 \nL 576 422 \nC 384 160 320 115 109 96 \nL 109 0 \nL 1037 0 \nL 1037 96 \nC 858 96 781 128 781 211 \nC 781 250 826 346 909 474 \nL 1414 1261 \nL 1997 365 \nC 2022 326 2035 288 2035 250 \nC 2035 123 1990 96 1779 96 \nL 1779 0 \nz\n\" transform=\"scale(0.015625)\"/>\n     </defs>\n     <use xlink:href=\"#NimbusRomNo9L-ReguItal-54\" transform=\"scale(0.996264)\"/>\n     <use xlink:href=\"#CMSY10-1\" transform=\"translate(81.88022 0)scale(0.996264)\"/>\n     <use xlink:href=\"#NimbusRomNo9L-ReguItal-76\" transform=\"translate(123.312693 0)scale(0.996264)\"/>\n     <use xlink:href=\"#NimbusRomNo9L-Regu-6d\" transform=\"translate(167.546262 -14.943915)scale(0.737241)\"/>\n     <use xlink:href=\"#NimbusRomNo9L-Regu-61\" transform=\"translate(224.902876 -14.943915)scale(0.737241)\"/>\n     <use xlink:href=\"#NimbusRomNo9L-Regu-78\" transform=\"translate(257.635962 -14.943915)scale(0.737241)\"/>\n    </g>\n   </g>\n   <g id=\"text_5\">\n    <!-- R -->\n    <g transform=\"translate(64.148571 168.881242)scale(0.12 -0.12)\">\n     <defs>\n      <path id=\"NimbusRomNo9L-Regu-52\" d=\"M 4218 121 \nC 3974 140 3846 205 3661 424 \nL 2342 2061 \nC 2771 2143 2963 2219 3174 2388 \nC 3379 2553 3501 2818 3501 3113 \nC 3501 3385 3418 3618 3251 3801 \nC 3008 4059 2477 4224 1875 4224 \nL 109 4224 \nL 109 4102 \nC 589 4051 653 3981 653 3528 \nL 653 765 \nC 653 236 589 159 109 121 \nL 109 0 \nL 1882 0 \nL 1882 134 \nC 1389 134 1306 219 1306 692 \nL 1306 1984 \nL 1664 1984 \nL 3187 0 \nL 4218 0 \nL 4218 121 \nz\nM 1306 3762 \nC 1306 3937 1376 3987 1632 3987 \nC 2432 3987 2803 3716 2803 3123 \nC 2803 2807 2669 2542 2438 2423 \nC 2144 2258 1920 2221 1306 2221 \nL 1306 3762 \nz\n\" transform=\"scale(0.015625)\"/>\n     </defs>\n     <use xlink:href=\"#NimbusRomNo9L-Regu-52\" transform=\"scale(0.996264)\"/>\n    </g>\n   </g>\n  </g>\n </g>\n <defs>\n  <clipPath id=\"pe651547eec\">\n   <rect x=\"7.2\" y=\"7.2\" width=\"217.44\" height=\"217.44\"/>\n  </clipPath>\n  <clipPath id=\"pb71a55fece\">\n   <path d=\"M 26.496623 205.343377 \nL 26.496623 17.083636 \nL 214.756364 17.083636 \nL 214.756364 205.343377 \nz\n\"/>\n  </clipPath>\n </defs>\n</svg>\n",
      "text/plain": [
       "<Figure size 1800x1200 with 1 Axes>"
      ]
     },
     "metadata": {},
     "output_type": "display_data"
    }
   ],
   "source": [
    "uav_width = 150\n",
    "arrow_length = 600\n",
    "R = 500\n",
    "\n",
    "def plot_node(ax, pos, direction, mask=None, color='#333'):\n",
    "    uav = matplotlib.patches.Ellipse(pos, width=uav_width, height=uav_width, fill=True, lw=1, ec='#333', fc='#333', clip_on=True)\n",
    "    ax.add_patch(uav)\n",
    "    x1,y1 = pos\n",
    "    alpha = direction * math.pi / 180\n",
    "    x2 = x1 + math.cos(alpha) * arrow_length\n",
    "    y2 = y1 + math.sin(alpha) * arrow_length\n",
    "    ax.arrow(x1, y1, x2-x1, y2-y1, length_includes_head=True, head_width=80, head_length=160, fc=color, zorder=2, fill=True, color=color, ls='-')\n",
    "    c1 = matplotlib.patches.Ellipse(pos, width=2*R, height=2*R, fill=False, lw=1, ec='#333', clip_path=mask)\n",
    "    ax.add_patch(c1)\n",
    "    \n",
    "\n",
    "\n",
    "fig, ax = plt.subplots()\n",
    "ax.set_xticks([])\n",
    "ax.set_yticks([])\n",
    "ax.set_aspect('equal')\n",
    "\n",
    "w = h = 6000\n",
    "\n",
    "offset = 200\n",
    "\n",
    "ax.plot([0, 6000], [-offset, -offset], '-', lw=1, color= '#333')\n",
    "ax.plot([0, 0], [- 0.5 * offset, -1.5 * offset], '-', lw=1, color= '#333')\n",
    "ax.plot([6000, 6000], [-0.5 * offset, -1.5 * offset], '-', lw=1, color= '#333')\n",
    "ax.text(3000, -2.2*offset, '6 km', ha='center', va='center')\n",
    "\n",
    "ax.plot([-offset, -offset],[0, 6000], '-', lw=1, color= '#333')\n",
    "ax.plot([- 0.5 * offset, -1.5 * offset], [0, 0],'-', lw=1, color= '#333')\n",
    "ax.plot( [-0.5 * offset, -1.5 * offset],[6000, 6000], '-', lw=1, color= '#333')\n",
    "ax.text( -1.8*offset, 3000, '6 km', ha='center', va='center', rotation=90)\n",
    "\n",
    "a = matplotlib.patches.Rectangle((0, 0), width=w, height=h, fill=False, lw=1, ec='#333', clip_on=True, ls='-')\n",
    "ax.add_patch(a)\n",
    "\n",
    "\n",
    "mask = plt.Polygon([[0, 0], [0, 6000], [6000, 6000], [6000, 0], [0,0]], fill=False, lw=0)\n",
    "ax.add_patch(mask)\n",
    "\n",
    "x1 = 300\n",
    "y1 = 1250 \n",
    "plot_node(ax, (3000, 3000), 20, mask)\n",
    "plot_node(ax, (x1, y1), -30, mask)\n",
    "plot_node(ax, (5000, 5000), 95, mask)\n",
    "plot_node(ax, (4000, 1000), -75, mask)\n",
    "\n",
    "uav_text = (4500, 2500)\n",
    "ax.text(uav_text[0]+ 60, uav_text[1], 'UAVs', va='center', ha='left')\n",
    "arrow = patches.FancyArrowPatch(uav_text, (3000,3000), connectionstyle=f\"arc3,rad=-0.3\", arrowstyle=\"Simple, tail_width=0, head_width=4, head_length=8\", color='#808080', zorder=2)\n",
    "ax.add_patch(arrow)\n",
    "arrow = patches.FancyArrowPatch(uav_text, (5000,5000), connectionstyle=f\"arc3,rad=-0.3\", arrowstyle=\"Simple, tail_width=0, head_width=4, head_length=8\", color='#808080', zorder=2)\n",
    "ax.add_patch(arrow)\n",
    "arrow = patches.FancyArrowPatch(uav_text, (4000,1000), connectionstyle=f\"arc3,rad=0.3\", arrowstyle=\"Simple, tail_width=0, head_width=4, head_length=8\", color='#808080', zorder=2)\n",
    "ax.add_patch(arrow)\n",
    "\n",
    "ax.plot([0, 6000], [4100, 4100], lw=1, color='#333')\n",
    "ax.text(2000, 4300, '$T \\cdot v_\\\\mathrm{{max}}$', ha='center', va='center')\n",
    "\n",
    "w = 900\n",
    "ax.plot([x1, x1+w], [y1 + R, y1 + R], lw=1, color='#333')\n",
    "ax.plot([x1, x1+w], [y1 - R, y1 - R], lw=1, color='#333')\n",
    "ax.plot([x1+w - 200, x1+w - 200], [y1 - R, y1+ R], lw=1, color='#333')\n",
    "ax.text(x1+w, y1, 'R', ha='left', va='center')\n",
    "\n",
    "ax.spines.top.set_visible(False)\n",
    "ax.spines.bottom.set_visible(False)\n",
    "ax.spines.left.set_visible(False)\n",
    "ax.spines.right.set_visible(False)\n",
    "\n",
    "fig.savefig(f\"../figures/simulation_schematic_v{v}.pdf\", dpi=500, bbox_inches='tight', pad_inches=0.01)\n",
    "fig.savefig(f\"../figures/simulation_schematic_v{v}.png\", dpi=500, bbox_inches='tight', pad_inches=0.01)\n",
    "\n",
    "\n",
    "plt.show()"
   ]
  },
  {
   "cell_type": "code",
   "execution_count": null,
   "metadata": {},
   "outputs": [],
   "source": []
  }
 ],
 "metadata": {
  "kernelspec": {
   "display_name": "Python 3",
   "language": "python",
   "name": "python3"
  },
  "language_info": {
   "codemirror_mode": {
    "name": "ipython",
    "version": 3
   },
   "file_extension": ".py",
   "mimetype": "text/x-python",
   "name": "python",
   "nbconvert_exporter": "python",
   "pygments_lexer": "ipython3",
   "version": "3.9.14 (main, Oct 28 2022, 09:29:00) \n[GCC 9.4.0]"
  },
  "orig_nbformat": 4,
  "vscode": {
   "interpreter": {
    "hash": "060863306db686882bc5e38f64a30492fd2b903e973dc099ca089ecbd1580ca6"
   }
  }
 },
 "nbformat": 4,
 "nbformat_minor": 2
}
